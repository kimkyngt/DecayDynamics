{
 "cells": [
  {
   "cell_type": "markdown",
   "metadata": {},
   "source": [
    "# Zeeman beat calculation testing notebook\n",
    "\n",
    "For estimating Zeeman beat systematics on lifetime measurement. \n",
    "\n",
    "## Notes:\n",
    "\n",
    "- Four level configuration calculation.\n",
    "- the unit of time, $\\Gamma$ is the lifetime of $^3D_1$ state"
   ]
  },
  {
   "cell_type": "code",
   "execution_count": null,
   "metadata": {},
   "outputs": [],
   "source": [
    "# Find and go to the project directory\n",
    "using DrWatson\n",
    "@quickactivate \"DecayDynamics\"\n",
    "projectname()\n",
    "cd(projectdir())\n",
    "pwd()"
   ]
  },
  {
   "cell_type": "code",
   "execution_count": null,
   "metadata": {},
   "outputs": [],
   "source": [
    "# Loading codes\n",
    "include(srcdir(\"single_atom_four_level.jl\"))\n",
    "include(srcdir(\"Base.jl\"))"
   ]
  },
  {
   "cell_type": "markdown",
   "metadata": {},
   "source": [
    "# B field strength check\n",
    "Check the field strength without any decays. "
   ]
  },
  {
   "cell_type": "code",
   "execution_count": null,
   "metadata": {},
   "outputs": [],
   "source": [
    "function check_Lamor_precession(Bfield)\n",
    "\t# Parameters for the simulation\n",
    "\tF_i = [1//2, 1//2, 1//2, 1//2] # two intermediate states, 3D1, 3P1, 3P0, 1S0\n",
    "\tg_i = [1, 0.5, 2, 1]*2π\n",
    "\tΓ_kl = sparse(\n",
    "\t        [1, 1, 2],\n",
    "\t        [2, 3, 4],\n",
    "\t        [1*0.385, 1*0.597, 0.1], # Branching ratio, 3P1 assumed to be just 10 times slower. \n",
    "\t        4, 4\n",
    "\t) * 0\n",
    "\tfrac = 1\n",
    "\ttspan = range(0, 20, length=1000)\n",
    "\tρ_0 = normalize(directsum(\n",
    "\t    (Fm_state(F_i[1], 1//2) + Fm_state(F_i[1], -1//2)) ,\n",
    "\t    (Fm_state(F_i[1], 1//2) + Fm_state(F_i[1], -1//2)),\n",
    "\t    (Fm_state(F_i[1], 1//2) + Fm_state(F_i[1], -1//2)),\n",
    "\t    (Fm_state(F_i[1], 1//2) + Fm_state(F_i[1], -1//2))\n",
    "\t))\n",
    "\n",
    "\t# Pack the parameters\n",
    "\tparameters = @dict F_i g_i Bfield Γ_kl ρ_0 tspan\n",
    "\n",
    "\t# Solve the master equation\n",
    "\tresult = evolve_master(parameters)\n",
    "\tfigs_population = plot_dynamics(result)\n",
    "\treturn plot(figs_population..., size=(1000, 1000), layout=(3, 3), margins=3Plots.mm, suptitle=\"[Bx, By, Bz] = $(round.(Bfield, digits=3)), g-factor = $(round.(g_i), digits=3)\")\n",
    "end\n",
    "\n",
    "display(check_Lamor_precession([0, 0, 0.1]))\n",
    "display(check_Lamor_precession([0, 0.1, 0]))\n",
    "display(check_Lamor_precession([0.1, 0, 0]))"
   ]
  },
  {
   "cell_type": "markdown",
   "metadata": {},
   "source": [
    "# Precessions\n",
    "First check the g-factors:\n",
    "\n",
    "D state: (1/11, 2/99, -1/9) for F = (11/2, 9/2, 7/2) \n",
    "\n",
    "P state: (3/11, 2/33, -1/3) for F = (11/2, 9/2, 7/2) \n",
    "\n",
    "The hyperfine splitting for P state is large enough to make the photon distinguishible. Therefore, we neglect the quantum interference effect for that. \n",
    "\n",
    "4-level calculation may provide upper bound of the systematics\n",
    "\n",
    "What would be the initial 3D1 state? Experimental details: \n",
    "\n",
    "<img src=\"../plots/3d1_exp.png\" width=500 />\n",
    "\n",
    "CG coefficients:\n",
    "\n",
    "<img src=\"../plots/cg.jpg\" width=500 />\n",
    "\n",
    "Spectroscopy for understanding the spin states.\n",
    "\n",
    "<img src=\"../plots/spin_states.png\" width=500 />\n",
    "\n",
    "The initial condition we have is a statistical mixture of all spin states. There is a bit of a bias towards -9/2 states. it is like 10:1:1:...:1. \n",
    "\n",
    "From this, we guess that equal superposition of -11/2, -9/2 would give us a upper bound of the Zeeman beat contribution. \n"
   ]
  },
  {
   "cell_type": "code",
   "execution_count": null,
   "metadata": {},
   "outputs": [],
   "source": [
    "# population decay and radiation pattern calculation\n",
    "# compare with zero field or double exponential cases\n",
    "# save data and fitting with python"
   ]
  },
  {
   "cell_type": "markdown",
   "metadata": {},
   "source": [
    "## Comparing coherence transfer rates of 3P1 F=11/2 and F=9/2\n",
    "Which state get more coherence trasnfered?\n",
    "\n",
    "From the following, we see that the coherence can be more easily transfered to 9/2 manifold, as we can expect from the smaller g-factor difference between upper and lower states."
   ]
  },
  {
   "cell_type": "code",
   "execution_count": null,
   "metadata": {},
   "outputs": [],
   "source": [
    "\"\"\"\n",
    "\tBfield is in units of Gauss. 76/127 Gauss will give us a Lamor precession with period of Γ\n",
    "\"\"\"\n",
    "function decay_3P1_11half(Bfield)\n",
    "\t# Parameters for the simulation\n",
    "\tF_i = [11//2, 11//2, 9//2, 9//2] # two intermediate states, 3D1, 3P1, 3P0, 1S0\n",
    "\tg_i = [127, 382, 0, 0]/76 * 2π # 2π from the angular frequency - frequency conversion.\n",
    "\tΓ_kl = sparse(\n",
    "\t        [1, 1, 2],\n",
    "\t        [2, 3, 4],\n",
    "\t        [1*0.385, 1*0.597, 0.1], # Branching ratio, 3P1 assumed to be just 10 times slower. \n",
    "\t        4, 4\n",
    "\t)\n",
    "\ttspan = range(0, 20, length=3000)\n",
    "\tρ_0 = normalize(directsum(\n",
    "\t\tFm_state(F_i[1], 11//2) + Fm_state(F_i[1], 9//2) ,\n",
    "\t\tKet(SpinBasis(F_i[2])),\n",
    "\t\tKet(SpinBasis(F_i[3])),\n",
    "\t\tKet(SpinBasis(F_i[4]))\n",
    "\t))\n",
    "\n",
    "\t# Pack the parameters\n",
    "\tparameters = @dict F_i g_i Bfield Γ_kl ρ_0 tspan\n",
    "\n",
    "\t# Solve the master equation\n",
    "\tresult = evolve_master(parameters)\n",
    "\tfigs_population = plot_dynamics(result)\n",
    "\treturn plot(figs_population..., size=(1600, 800), layout=(2,4), margins=6Plots.mm, suptitle=\"[Bx, By, Bz] = $(round.(Bfield, digits=3)), g-factor = $(round.(g_i, digits=3))\")\n",
    "end\n",
    "\n",
    "function decay_3P1_9half(Bfield)\n",
    "\t# Parameters for the simulation\n",
    "\tF_i = [11//2, 9//2, 9//2, 9//2] # two intermediate states, 3D1, 3P1, 3P0, 1S0\n",
    "\tg_i = [127, 85, 0, 0]/76 * 2π # 2π from the angular frequency - frequency conversion.\n",
    "\tΓ_kl = sparse(\n",
    "\t        [1, 1, 2],\n",
    "\t        [2, 3, 4],\n",
    "\t        [1*0.385, 1*0.597, 0.1], # Branching ratio, 3P1 assumed to be just 10 times slower. \n",
    "\t        4, 4\n",
    "\t)\n",
    "\ttspan = range(0, 20, length=3000)\n",
    "\tρ_0 = normalize(directsum(\n",
    "\t\tFm_state(F_i[1], 11//2) + Fm_state(F_i[1], 9//2) ,\n",
    "\t\tKet(SpinBasis(F_i[2])),\n",
    "\t\tKet(SpinBasis(F_i[3])),\n",
    "\t\tKet(SpinBasis(F_i[4]))\n",
    "\t))\n",
    "\n",
    "\t# Pack the parameters\n",
    "\tparameters = @dict F_i g_i Bfield Γ_kl ρ_0 tspan\n",
    "\n",
    "\t# Solve the master equation\n",
    "\tresult = evolve_master(parameters)\n",
    "\tfigs_population = plot_dynamics(result)\n",
    "\treturn plot(figs_population..., size=(1600, 800), layout=(2, 4), margins=6Plots.mm, suptitle=\"[Bx, By, Bz] = $(round.(Bfield, digits=3)), g-factor = $(round.(g_i, digits=3))\")\n",
    "end\n",
    "\n",
    "display(decay_3P1_11half([0, 0, 76/127]))\n",
    "display(decay_3P1_9half([0, 0, 76/127]))"
   ]
  },
  {
   "cell_type": "markdown",
   "metadata": {},
   "source": [
    "## Calculating the radiation\n"
   ]
  },
  {
   "cell_type": "markdown",
   "metadata": {},
   "source": [
    "Checking the distance dependence of the radiation pattern"
   ]
  },
  {
   "cell_type": "code",
   "execution_count": null,
   "metadata": {},
   "outputs": [],
   "source": [
    "function scan_distance(rlist)\n",
    "    # Parameters for the simulation\n",
    "    F_i = [11//2, 9//2, 9//2, 9//2] # two intermediate states, 3D1, 3P1, 3P0, 1S0\n",
    "    g_i = [127, 85, 0, 0]/76 * 2π # 2π from the angular frequency - frequency conversion.\n",
    "    Γ_kl = sparse(\n",
    "            [1, 1, 2],\n",
    "            [2, 3, 4],\n",
    "            [1*0.385, 1*0.597, 0.1], # Branching ratio, 3P1 assumed to be just 10 times slower. \n",
    "            4, 4\n",
    "    )\n",
    "    tspan = range(0, 77/3, length=300)\n",
    "    ρ_0 = normalize(directsum(\n",
    "        Fm_state(F_i[1], 11//2) + Fm_state(F_i[1], 9//2) ,\n",
    "        Ket(SpinBasis(F_i[2])),\n",
    "        Ket(SpinBasis(F_i[3])),\n",
    "        Ket(SpinBasis(F_i[4]))\n",
    "    ))\n",
    "\n",
    "    # Pack the parameters\n",
    "    parameters = @dict F_i g_i Bfield Γ_kl ρ_0 tspan\n",
    "\n",
    "    # Solve the master equation\n",
    "    result = evolve_master(parameters)\n",
    "    # fig_detector = plot_detector_signal(result, pi/2, 0)\n",
    "    fig = plot()\n",
    "    mycolor = cgrad(:viridis, length(rlist), categorical=true)\n",
    "    for ii in eachindex(rlist)\n",
    "        x, y = get_detector_signal(result, rlist[ii], π/4, 0, NA=0.01, Nsample=1)\n",
    "        plot!(x, normalize(y), label=\"r=$(rlist[ii])\", color=mycolor[ii])\n",
    "    end\n",
    "    fig\n",
    "end\n",
    "\n",
    "plot(scan_distance(range(1, 4, length=10)), scan_distance(range(5, 1000, length=10)), size=(1000, 400))\n"
   ]
  },
  {
   "cell_type": "code",
   "execution_count": null,
   "metadata": {},
   "outputs": [],
   "source": [
    "scan_distance([1e3, 1e4, 1e5, 1e6, 1e10])"
   ]
  },
  {
   "cell_type": "markdown",
   "metadata": {},
   "source": [
    "r = 1000 or 1000 times the wavelength from the atom seems to be good enough for estimating far field character.\n",
    "\n",
    "Our imaging system has NA of around 0.2. Check how much random sample for the solid angle is needed to make it converged. "
   ]
  },
  {
   "cell_type": "code",
   "execution_count": null,
   "metadata": {},
   "outputs": [],
   "source": [
    "function scan_Nsample(Nsamples)\n",
    "    fig = plot()\n",
    "    mycolor = cgrad(:viridis, length(Nsamples), categorical=true)\n",
    "    for ii in eachindex(Nsamples)\n",
    "        x, y = get_detector_signal(result, 1e3, π/4, 0, NA=0.2, Nsample=Nsamples[ii])\n",
    "        plot!(x, normalize(y), label=\"Sample size=$(Nsamples[ii])\", color=mycolor[ii])\n",
    "    end\n",
    "    fig\n",
    "end\n",
    "\n",
    "scan_Nsample([1, 2, 4, 8, 16, 32, 64, ])"
   ]
  },
  {
   "cell_type": "markdown",
   "metadata": {},
   "source": [
    "Sample size of 30 would be good enough. With this, we finally generate samples with maximal field offset (2 mG) with various angle with respect to the detector or the bias field. "
   ]
  },
  {
   "cell_type": "code",
   "execution_count": null,
   "metadata": {},
   "outputs": [],
   "source": [
    "\"\"\"\n",
    "    Generate detector signal sample.\n",
    "    B field set to 2 mG\n",
    "\"\"\"\n",
    "function generate_sample(θ)\n",
    "    # Parameters for the simulation\n",
    "    F_i = [11//2, 9//2, 9//2, 9//2] # two intermediate states, 3D1, 3P1, 3P0, 1S0\n",
    "    g_i = [127, 85, 0, 0]/76 * 2π # 2π from the angular frequency - frequency conversion.\n",
    "    Bfield = [0, 0, 2e-3]\n",
    "    Γ_kl = sparse(\n",
    "            [1, 1, 2],\n",
    "            [2, 3, 4],\n",
    "            [1*0.385, 1*0.597, 0.1], # Branching ratio, 3P1 assumed to be just 10 times slower. \n",
    "            4, 4\n",
    "    )\n",
    "    tspan = range(0, 77, length=300)\n",
    "    ρ_0 = normalize(directsum(\n",
    "        Fm_state(F_i[1], 11//2) + Fm_state(F_i[1], 9//2) ,\n",
    "        Ket(SpinBasis(F_i[2])),\n",
    "        Ket(SpinBasis(F_i[3])),\n",
    "        Ket(SpinBasis(F_i[4]))\n",
    "    ))\n",
    "\n",
    "    # Pack the parameters\n",
    "    parameters = @dict F_i g_i Bfield Γ_kl ρ_0 tspan\n",
    "\n",
    "    # Solve the master equation\n",
    "    result = evolve_master(parameters)\n",
    "    t_out, It = get_detector_signal(result, 1e5, θ, 0, NA=0.2, Nsample=30)\n",
    "    return t_out, It, result\n",
    "end"
   ]
  },
  {
   "cell_type": "code",
   "execution_count": null,
   "metadata": {},
   "outputs": [],
   "source": [
    "x, y, result = generate_sample(0)\n",
    "normalize!(y);"
   ]
  },
  {
   "cell_type": "code",
   "execution_count": null,
   "metadata": {},
   "outputs": [],
   "source": [
    "# plot and fit the data to a double exponential\n",
    "@. model(x, p) = p[1]*(exp(-(x - p[4])/p[2]) - exp(-(x - p[4])/p[3])) + p[5]\n",
    "p0 = [maximum(y), 10, 1, 0, 0]\n",
    "fit_raw = curve_fit(model, x, y, p0)\n",
    "fit_model = model(x, fit_raw.param)\n",
    "se = LsqFit.stderror(fit_raw)\n",
    "\n",
    "fig = plot(x, y, lab=\"B = 5 mG\")\n",
    "plot!(x, fit_model, lab=\"Double exponential fit\")\n",
    "\n",
    "fig_res = plot(x, fit_raw.resid, lab=\"fit residuals\")\n",
    "\n",
    "plot(fig, fig_res, layout=(2, 1), size=(800, 600), suptitle=\"τD = $(round(fit_raw.param[3], digits=4))($(round(se[3], digits=4))), τP = $(round(fit_raw.param[2], digits=3))($(round(se[2], digits=4)))\")"
   ]
  },
  {
   "cell_type": "code",
   "execution_count": null,
   "metadata": {},
   "outputs": [],
   "source": [
    "println(fit_raw.param)\n",
    "println(se)\n"
   ]
  },
  {
   "cell_type": "code",
   "execution_count": null,
   "metadata": {},
   "outputs": [],
   "source": []
  }
 ],
 "metadata": {
  "kernelspec": {
   "display_name": "Julia 1.9.2",
   "language": "julia",
   "name": "julia-1.9"
  },
  "language_info": {
   "file_extension": ".jl",
   "mimetype": "application/julia",
   "name": "julia",
   "version": "1.9.2"
  },
  "orig_nbformat": 4
 },
 "nbformat": 4,
 "nbformat_minor": 2
}
